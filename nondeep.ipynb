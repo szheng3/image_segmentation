{
 "cells": [
  {
   "cell_type": "code",
   "execution_count": null,
   "metadata": {
    "collapsed": true,
    "pycharm": {
     "is_executing": true
    }
   },
   "outputs": [],
   "source": [
    "# Add necessary imports\n",
    "from sklearn.ensemble import RandomForestClassifier\n",
    "from sklearn.model_selection import train_test_split\n",
    "from skimage import io\n",
    "import pandas as pd\n",
    "import os\n",
    "import numpy as np\n",
    "\n",
    "# Flatten the images and masks to use them in Random Forest\n",
    "def flatten_image(img):\n",
    "    return img.reshape(-1, img.shape[-1])\n",
    "\n",
    "def flatten_mask(mask):\n",
    "    return mask.reshape(-1)\n",
    "\n",
    "def prepare_data(image_dir, mask_dir, image_files):\n",
    "    X = []\n",
    "    y = []\n",
    "    for img_file in image_files:\n",
    "        img_path = os.path.join(image_dir, img_file)\n",
    "        mask_path = os.path.join(mask_dir, img_file.replace('.jpg', '.png'))\n",
    "\n",
    "        img = io.imread(img_path)\n",
    "        mask = io.imread(mask_path)\n",
    "\n",
    "        X.append(flatten_image(img))\n",
    "        y.append(flatten_mask(mask))\n",
    "\n",
    "    X = np.vstack(X)\n",
    "    y = np.hstack(y)\n",
    "\n",
    "    return X, y\n",
    "\n",
    "image_files = os.listdir(\"leaf_disease_segmentation/train_images\")\n",
    "X, y = prepare_data(\"leaf_disease_segmentation/train_images\", \"leaf_disease_segmentation/train_masks\", image_files)\n",
    "\n",
    "# Split the data into training and validation sets\n",
    "X_train, X_val, y_train, y_val = train_test_split(X, y, test_size=0.2, random_state=42)\n",
    "\n",
    "# Train the Random Forest model\n",
    "rf_model = RandomForestClassifier(n_estimators=100, random_state=42, n_jobs=-1)\n",
    "rf_model.fit(X_train, y_train)\n",
    "\n",
    "# Evaluate the model\n",
    "train_accuracy = rf_model.score(X_train, y_train)\n",
    "val_accuracy = rf_model.score(X_val, y_val)\n",
    "\n",
    "print(f\"Train accuracy: {train_accuracy:.4f}\")\n",
    "print(f\"Validation accuracy: {val_accuracy:.4f}\")\n"
   ]
  }
 ],
 "metadata": {
  "kernelspec": {
   "display_name": "Python 3",
   "language": "python",
   "name": "python3"
  },
  "language_info": {
   "codemirror_mode": {
    "name": "ipython",
    "version": 2
   },
   "file_extension": ".py",
   "mimetype": "text/x-python",
   "name": "python",
   "nbconvert_exporter": "python",
   "pygments_lexer": "ipython2",
   "version": "2.7.6"
  }
 },
 "nbformat": 4,
 "nbformat_minor": 0
}
