{
 "cells": [
  {
   "cell_type": "code",
   "execution_count": 1,
   "metadata": {
    "collapsed": true
   },
   "outputs": [
    {
     "name": "stdout",
     "output_type": "stream",
     "text": [
      "Train IoU: 0.9116\n",
      "Validation IoU: 0.7790\n"
     ]
    }
   ],
   "source": [
    "# Add necessary imports\n",
    "from sklearn.ensemble import RandomForestClassifier\n",
    "from sklearn.model_selection import train_test_split\n",
    "from skimage import io\n",
    "import pandas as pd\n",
    "import os\n",
    "import numpy as np\n",
    "from sklearn.metrics import confusion_matrix\n",
    "\n",
    "# Flatten the images and masks to use them in Random Forest\n",
    "def flatten_image(img):\n",
    "    return img.reshape(-1, img.shape[-1])\n",
    "\n",
    "def flatten_mask(mask):\n",
    "    return mask.reshape(-1)\n",
    "\n",
    "def prepare_data(image_dir, mask_dir, image_files):\n",
    "    X = []\n",
    "    y = []\n",
    "    for img_file in image_files:\n",
    "        if img_file.endswith('jpg'):\n",
    "            img_path = os.path.join(image_dir, img_file)\n",
    "            mask_path = os.path.join(mask_dir, img_file.replace('.jpg', '.png'))\n",
    "\n",
    "            img = io.imread(img_path)\n",
    "            mask = io.imread(mask_path)\n",
    "\n",
    "            X.append(flatten_image(img))\n",
    "            y.append(flatten_mask(mask))\n",
    "\n",
    "    X = np.vstack(X)\n",
    "    y = np.hstack(y)\n",
    "\n",
    "    return X, y\n",
    "\n",
    "def calculate_iou(y_true, y_pred):\n",
    "    cm = confusion_matrix(y_true, y_pred)\n",
    "    intersection = np.diag(cm)\n",
    "    ground_truth_set = cm.sum(axis=1)\n",
    "    predicted_set = cm.sum(axis=0)\n",
    "    union = ground_truth_set + predicted_set - intersection\n",
    "    iou = intersection / union.astype(np.float32)\n",
    "    return np.mean(iou)\n",
    "\n",
    "image_files = os.listdir(\"../data/train_images\")\n",
    "X, y = prepare_data(\"../data/train_images\", \"../data/train_masks\", image_files)\n",
    "\n",
    "# Split the data into training and validation sets\n",
    "X_train, X_val, y_train, y_val = train_test_split(X, y, test_size=0.2, random_state=42)\n",
    "\n",
    "# Train the Random Forest model\n",
    "rf_model = RandomForestClassifier(n_estimators=100, random_state=42, n_jobs=-1)\n",
    "rf_model.fit(X_train, y_train)\n",
    "\n",
    "# Evaluate the model using IoU\n",
    "y_train_pred = rf_model.predict(X_train)\n",
    "y_val_pred = rf_model.predict(X_val)\n",
    "\n",
    "train_iou = calculate_iou(y_train, y_train_pred)\n",
    "val_iou = calculate_iou(y_val, y_val_pred)\n",
    "\n",
    "print(f\"Train IoU: {train_iou:.4f}\")\n",
    "print(f\"Validation IoU: {val_iou:.4f}\")\n"
   ]
  }
 ],
 "metadata": {
  "kernelspec": {
   "display_name": "Python 3",
   "language": "python",
   "name": "python3"
  },
  "language_info": {
   "codemirror_mode": {
    "name": "ipython",
    "version": 2
   },
   "file_extension": ".py",
   "mimetype": "text/x-python",
   "name": "python",
   "nbconvert_exporter": "python",
   "pygments_lexer": "ipython2",
   "version": "2.7.6"
  }
 },
 "nbformat": 4,
 "nbformat_minor": 0
}
