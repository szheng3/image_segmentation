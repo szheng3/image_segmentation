{
 "cells": [
  {
   "cell_type": "code",
   "execution_count": 8,
   "metadata": {
    "collapsed": true
   },
   "outputs": [
    {
     "name": "stdout",
     "output_type": "stream",
     "text": [
      "Requirement already satisfied: Cython in /opt/homebrew/anaconda3/envs/ml/lib/python3.8/site-packages (0.29.33)\r\n",
      "Requirement already satisfied: numpy in /opt/homebrew/anaconda3/envs/ml/lib/python3.8/site-packages (1.24.2)\r\n",
      "Found existing installation: d3rlpy 1.1.1\r\n",
      "Uninstalling d3rlpy-1.1.1:\r\n",
      "  Successfully uninstalled d3rlpy-1.1.1\r\n",
      "Collecting git+https://github.com/architkaila/d3rlpy-aipi590HW.git\r\n",
      "  Cloning https://github.com/architkaila/d3rlpy-aipi590HW.git to /private/var/folders/qf/p1jx3hqj5vv1t6n49gjv_wjw0000gn/T/pip-req-build-apah2jet\r\n",
      "  Running command git clone --filter=blob:none --quiet https://github.com/architkaila/d3rlpy-aipi590HW.git /private/var/folders/qf/p1jx3hqj5vv1t6n49gjv_wjw0000gn/T/pip-req-build-apah2jet\r\n",
      "  Resolved https://github.com/architkaila/d3rlpy-aipi590HW.git to commit edfc069757da7f2c670fdff1262c3677c7fa948f\r\n",
      "  Preparing metadata (setup.py) ... \u001B[?25ldone\r\n",
      "\u001B[?25hRequirement already satisfied: command in /opt/homebrew/anaconda3/envs/ml/lib/python3.8/site-packages (0.1.0)\r\n",
      "Requirement already satisfied: setuptools in /opt/homebrew/anaconda3/envs/ml/lib/python3.8/site-packages (from command) (65.6.3)\r\n",
      "Requirement already satisfied: torch in /opt/homebrew/anaconda3/envs/ml/lib/python3.8/site-packages (from d3rlpy==0.91) (1.13.1)\r\n",
      "Requirement already satisfied: scikit-learn in /opt/homebrew/anaconda3/envs/ml/lib/python3.8/site-packages (from d3rlpy==0.91) (1.2.1)\r\n",
      "Requirement already satisfied: tensorboardX in /opt/homebrew/anaconda3/envs/ml/lib/python3.8/site-packages (from d3rlpy==0.91) (2.6)\r\n",
      "Requirement already satisfied: tqdm in /opt/homebrew/anaconda3/envs/ml/lib/python3.8/site-packages (from d3rlpy==0.91) (4.65.0)\r\n",
      "Collecting GPUtil\r\n",
      "  Downloading GPUtil-1.4.0.tar.gz (5.5 kB)\r\n",
      "  Preparing metadata (setup.py) ... \u001B[?25ldone\r\n",
      "\u001B[?25hRequirement already satisfied: h5py in /opt/homebrew/anaconda3/envs/ml/lib/python3.8/site-packages (from d3rlpy==0.91) (3.8.0)\r\n",
      "Requirement already satisfied: gym in /opt/homebrew/anaconda3/envs/ml/lib/python3.8/site-packages (from d3rlpy==0.91) (0.21.0)\r\n",
      "Requirement already satisfied: click in /opt/homebrew/anaconda3/envs/ml/lib/python3.8/site-packages (from d3rlpy==0.91) (8.1.3)\r\n",
      "Requirement already satisfied: typing-extensions in /opt/homebrew/anaconda3/envs/ml/lib/python3.8/site-packages (from d3rlpy==0.91) (4.5.0)\r\n",
      "Requirement already satisfied: cloudpickle in /opt/homebrew/anaconda3/envs/ml/lib/python3.8/site-packages (from d3rlpy==0.91) (2.2.1)\r\n",
      "Requirement already satisfied: scipy in /opt/homebrew/anaconda3/envs/ml/lib/python3.8/site-packages (from d3rlpy==0.91) (1.10.1)\r\n",
      "Requirement already satisfied: structlog in /opt/homebrew/anaconda3/envs/ml/lib/python3.8/site-packages (from d3rlpy==0.91) (22.3.0)\r\n",
      "Requirement already satisfied: colorama in /opt/homebrew/anaconda3/envs/ml/lib/python3.8/site-packages (from d3rlpy==0.91) (0.4.6)\r\n",
      "Requirement already satisfied: numpy>=1.18.0 in /opt/homebrew/anaconda3/envs/ml/lib/python3.8/site-packages (from gym->d3rlpy==0.91) (1.24.2)\r\n",
      "Requirement already satisfied: threadpoolctl>=2.0.0 in /opt/homebrew/anaconda3/envs/ml/lib/python3.8/site-packages (from scikit-learn->d3rlpy==0.91) (3.1.0)\r\n",
      "Requirement already satisfied: joblib>=1.1.1 in /opt/homebrew/anaconda3/envs/ml/lib/python3.8/site-packages (from scikit-learn->d3rlpy==0.91) (1.2.0)\r\n",
      "Requirement already satisfied: packaging in /opt/homebrew/anaconda3/envs/ml/lib/python3.8/site-packages (from tensorboardX->d3rlpy==0.91) (23.0)\r\n",
      "Requirement already satisfied: protobuf<4,>=3.8.0 in /opt/homebrew/anaconda3/envs/ml/lib/python3.8/site-packages (from tensorboardX->d3rlpy==0.91) (3.20.3)\r\n",
      "Building wheels for collected packages: d3rlpy, GPUtil\r\n",
      "  Building wheel for d3rlpy (setup.py) ... \u001B[?25ldone\r\n",
      "\u001B[?25h  Created wheel for d3rlpy: filename=d3rlpy-0.91-cp38-cp38-macosx_11_0_arm64.whl size=372063 sha256=02c6b88c84820fae708db7e47a63f3e215a3100622060f45d5b05e3e234a7ee4\r\n",
      "  Stored in directory: /private/var/folders/qf/p1jx3hqj5vv1t6n49gjv_wjw0000gn/T/pip-ephem-wheel-cache-ipeypb65/wheels/f5/42/f1/e6ed839990f25ee213585e2859a1091f5a15844fa6e4f30459\r\n",
      "  Building wheel for GPUtil (setup.py) ... \u001B[?25ldone\r\n",
      "\u001B[?25h  Created wheel for GPUtil: filename=GPUtil-1.4.0-py3-none-any.whl size=7394 sha256=a67710531685c980c8e57c5fc1f9717007f6e72f2dd999ad58858060155bdee5\r\n",
      "  Stored in directory: /Users/shuai/Library/Caches/pip/wheels/0f/d6/bc/81bb079b0a87885354d6c32d323698a718a125cd65955155d8\r\n",
      "Successfully built d3rlpy GPUtil\r\n",
      "Installing collected packages: GPUtil, d3rlpy\r\n",
      "Successfully installed GPUtil-1.4.0 d3rlpy-0.91\r\n"
     ]
    }
   ],
   "source": [
    "!pip install Cython numpy\n",
    "!pip uninstall d3rlpy --yes\n",
    "!pip install command git+https://github.com/guptashrey/d3rlpy.git"
   ]
  },
  {
   "cell_type": "code",
   "execution_count": 9,
   "outputs": [
    {
     "name": "stdout",
     "output_type": "stream",
     "text": [
      "10.1\n"
     ]
    },
    {
     "data": {
      "text/plain": "0.0609746131174702"
     },
     "execution_count": 9,
     "metadata": {},
     "output_type": "execute_result"
    }
   ],
   "source": [
    "from d3rlpy.datasets import get_cartpole\n",
    "from d3rlpy.algos import DiscreteCQL\n",
    "from sklearn.model_selection import train_test_split\n",
    "from d3rlpy.metrics.scorer import average_value_estimation_scorer\n",
    "from d3rlpy.datasets import get_pendulum\n",
    "from d3rlpy.metrics.scorer import evaluate_on_environment\n",
    "\n",
    "dataset, env = get_cartpole()\n",
    "evaluate_scorer = evaluate_on_environment(env)\n",
    "\n",
    "cql = DiscreteCQL(use_gpu=False, batch_size=5000)\n",
    "cql.build_with_dataset(dataset)\n",
    "print(evaluate_scorer(cql))\n",
    "train_set, test_set = train_test_split(dataset, test_size=.3, random_state=100)\n",
    "aves = average_value_estimation_scorer(cql, test_set)\n",
    "aves"
   ],
   "metadata": {
    "collapsed": false
   }
  },
  {
   "cell_type": "code",
   "execution_count": 10,
   "outputs": [],
   "source": [
    "import numpy as np\n",
    "global q_log\n",
    "global batch\n",
    "q_log = {\n",
    "    'true q':[],\n",
    "    'pred q': []\n",
    "}\n",
    "def callback_cql(algo, epoch, total_step, batch):\n",
    "  if total_step % 50 == 0:\n",
    "    x = evaluate_scorer(algo)\n",
    "    q_log['true q'].append(x[0])\n",
    "    q_log['pred q'].append(x[1])"
   ],
   "metadata": {
    "collapsed": false
   }
  },
  {
   "cell_type": "code",
   "execution_count": 11,
   "outputs": [
    {
     "name": "stdout",
     "output_type": "stream",
     "text": [
      "2023-03-23 00:49:49 [debug    ] RoundIterator is selected.\n",
      "2023-03-23 00:49:49 [info     ] Directory is created at d3rlpy_logs/DiscreteCQL_20230323004949\n",
      "2023-03-23 00:49:49 [warning  ] Skip building models since they're already built.\n",
      "2023-03-23 00:49:49 [info     ] Parameters are saved to d3rlpy_logs/DiscreteCQL_20230323004949/params.json params={'action_scaler': None, 'alpha': 1.0, 'batch_size': 5000, 'encoder_factory': {'type': 'default', 'params': {'activation': 'relu', 'use_batch_norm': False, 'dropout_rate': None}}, 'gamma': 0.99, 'generated_maxlen': 100000, 'learning_rate': 6.25e-05, 'n_critics': 1, 'n_frames': 1, 'n_steps': 1, 'optim_factory': {'optim_cls': 'Adam', 'betas': (0.9, 0.999), 'eps': 1e-08, 'weight_decay': 0, 'amsgrad': False}, 'q_func_factory': {'type': 'mean', 'params': {'share_encoder': False}}, 'real_ratio': 1.0, 'reward_scaler': None, 'scaler': None, 'target_update_interval': 8000, 'use_gpu': None, 'algorithm': 'DiscreteCQL', 'observation_shape': (4,), 'action_size': 2}\n"
     ]
    },
    {
     "data": {
      "text/plain": "Epoch 1/20:   0%|          | 0/13 [00:00<?, ?it/s]",
      "application/vnd.jupyter.widget-view+json": {
       "version_major": 2,
       "version_minor": 0,
       "model_id": "cf9f4338d4774e42806e8437e817fa26"
      }
     },
     "metadata": {},
     "output_type": "display_data"
    },
    {
     "name": "stdout",
     "output_type": "stream",
     "text": [
      "2023-03-23 00:49:58 [info     ] DiscreteCQL_20230323004949: epoch=1 step=13 epoch=1 metrics={'time_sample_batch': 0.007732813174907978, 'time_algorithm_update': 0.672824529501108, 'loss': 1.161886031811054, 'time_step': 0.6807106825021597} step=13\n",
      "2023-03-23 00:49:58 [info     ] Model parameters are saved to d3rlpy_logs/DiscreteCQL_20230323004949/model_13.pt\n"
     ]
    },
    {
     "data": {
      "text/plain": "Epoch 2/20:   0%|          | 0/13 [00:00<?, ?it/s]",
      "application/vnd.jupyter.widget-view+json": {
       "version_major": 2,
       "version_minor": 0,
       "model_id": "0a42c53254d14d1ca0a15c90544f34a3"
      }
     },
     "metadata": {},
     "output_type": "display_data"
    },
    {
     "name": "stdout",
     "output_type": "stream",
     "text": [
      "2023-03-23 00:50:12 [info     ] DiscreteCQL_20230323004949: epoch=2 step=26 epoch=2 metrics={'time_sample_batch': 0.006798780881441557, 'time_algorithm_update': 1.0541477019970233, 'loss': 1.039594760307899, 'time_step': 1.061049461364746} step=26\n",
      "2023-03-23 00:50:12 [info     ] Model parameters are saved to d3rlpy_logs/DiscreteCQL_20230323004949/model_26.pt\n"
     ]
    },
    {
     "data": {
      "text/plain": "Epoch 3/20:   0%|          | 0/13 [00:00<?, ?it/s]",
      "application/vnd.jupyter.widget-view+json": {
       "version_major": 2,
       "version_minor": 0,
       "model_id": "66b15407a3ba4830964bc78d6e702389"
      }
     },
     "metadata": {},
     "output_type": "display_data"
    },
    {
     "name": "stdout",
     "output_type": "stream",
     "text": [
      "2023-03-23 00:50:29 [info     ] DiscreteCQL_20230323004949: epoch=3 step=39 epoch=3 metrics={'time_sample_batch': 0.00957815463726337, 'time_algorithm_update': 1.2953161092904897, 'loss': 0.9390507982327387, 'time_step': 1.3051704810215876} step=39\n",
      "2023-03-23 00:50:29 [info     ] Model parameters are saved to d3rlpy_logs/DiscreteCQL_20230323004949/model_39.pt\n"
     ]
    },
    {
     "data": {
      "text/plain": "Epoch 4/20:   0%|          | 0/13 [00:00<?, ?it/s]",
      "application/vnd.jupyter.widget-view+json": {
       "version_major": 2,
       "version_minor": 0,
       "model_id": "559e26e221e74a099545fdfc2d143cf6"
      }
     },
     "metadata": {},
     "output_type": "display_data"
    },
    {
     "ename": "TypeError",
     "evalue": "'float' object is not subscriptable",
     "output_type": "error",
     "traceback": [
      "\u001B[0;31m---------------------------------------------------------------------------\u001B[0m",
      "\u001B[0;31mTypeError\u001B[0m                                 Traceback (most recent call last)",
      "Cell \u001B[0;32mIn[11], line 2\u001B[0m\n\u001B[1;32m      1\u001B[0m \u001B[38;5;66;03m# cql.fit(train_set, eval_episodes=10, n_epochs=100, scorers={'environment': evaluate_scorer}, callbacks=[callback_cql])\u001B[39;00m\n\u001B[0;32m----> 2\u001B[0m \u001B[43mcql\u001B[49m\u001B[38;5;241;43m.\u001B[39;49m\u001B[43mfit\u001B[49m\u001B[43m(\u001B[49m\u001B[43mtrain_set\u001B[49m\u001B[43m,\u001B[49m\n\u001B[1;32m      3\u001B[0m \u001B[43m    \u001B[49m\u001B[43meval_episodes\u001B[49m\u001B[38;5;241;43m=\u001B[39;49m\u001B[43mtest_set\u001B[49m\u001B[43m,\u001B[49m\n\u001B[1;32m      4\u001B[0m \u001B[43m    \u001B[49m\u001B[43mn_epochs\u001B[49m\u001B[38;5;241;43m=\u001B[39;49m\u001B[38;5;241;43m20\u001B[39;49m\u001B[43m,\u001B[49m\n\u001B[1;32m      5\u001B[0m \u001B[43m    \u001B[49m\u001B[43mcallback\u001B[49m\u001B[38;5;241;43m=\u001B[39;49m\u001B[43mcallback_cql\u001B[49m\n\u001B[1;32m      6\u001B[0m \u001B[43m        \u001B[49m\u001B[43m)\u001B[49m\n",
      "File \u001B[0;32m/opt/homebrew/anaconda3/envs/ml/lib/python3.8/site-packages/d3rlpy/base.py:406\u001B[0m, in \u001B[0;36mLearnableBase.fit\u001B[0;34m(self, dataset, n_epochs, n_steps, n_steps_per_epoch, save_metrics, experiment_name, with_timestamp, logdir, verbose, show_progress, tensorboard_dir, eval_episodes, save_interval, scorers, shuffle, callback)\u001B[0m\n\u001B[1;32m    349\u001B[0m \u001B[38;5;28;01mdef\u001B[39;00m \u001B[38;5;21mfit\u001B[39m(\n\u001B[1;32m    350\u001B[0m     \u001B[38;5;28mself\u001B[39m,\n\u001B[1;32m    351\u001B[0m     dataset: Union[List[Episode], List[Transition], MDPDataset],\n\u001B[0;32m   (...)\u001B[0m\n\u001B[1;32m    368\u001B[0m     callback: Optional[Callable[[\u001B[38;5;124m\"\u001B[39m\u001B[38;5;124mLearnableBase\u001B[39m\u001B[38;5;124m\"\u001B[39m, \u001B[38;5;28mint\u001B[39m, \u001B[38;5;28mint\u001B[39m], \u001B[38;5;28;01mNone\u001B[39;00m]] \u001B[38;5;241m=\u001B[39m \u001B[38;5;28;01mNone\u001B[39;00m,\n\u001B[1;32m    369\u001B[0m ) \u001B[38;5;241m-\u001B[39m\u001B[38;5;241m>\u001B[39m List[Tuple[\u001B[38;5;28mint\u001B[39m, Dict[\u001B[38;5;28mstr\u001B[39m, \u001B[38;5;28mfloat\u001B[39m]]]:\n\u001B[1;32m    370\u001B[0m \u001B[38;5;250m    \u001B[39m\u001B[38;5;124;03m\"\"\"Trains with the given dataset.\u001B[39;00m\n\u001B[1;32m    371\u001B[0m \n\u001B[1;32m    372\u001B[0m \u001B[38;5;124;03m    .. code-block:: python\u001B[39;00m\n\u001B[0;32m   (...)\u001B[0m\n\u001B[1;32m    404\u001B[0m \n\u001B[1;32m    405\u001B[0m \u001B[38;5;124;03m    \"\"\"\u001B[39;00m\n\u001B[0;32m--> 406\u001B[0m     results \u001B[38;5;241m=\u001B[39m \u001B[38;5;28;43mlist\u001B[39;49m\u001B[43m(\u001B[49m\n\u001B[1;32m    407\u001B[0m \u001B[43m        \u001B[49m\u001B[38;5;28;43mself\u001B[39;49m\u001B[38;5;241;43m.\u001B[39;49m\u001B[43mfitter\u001B[49m\u001B[43m(\u001B[49m\n\u001B[1;32m    408\u001B[0m \u001B[43m            \u001B[49m\u001B[43mdataset\u001B[49m\u001B[43m,\u001B[49m\n\u001B[1;32m    409\u001B[0m \u001B[43m            \u001B[49m\u001B[43mn_epochs\u001B[49m\u001B[43m,\u001B[49m\n\u001B[1;32m    410\u001B[0m \u001B[43m            \u001B[49m\u001B[43mn_steps\u001B[49m\u001B[43m,\u001B[49m\n\u001B[1;32m    411\u001B[0m \u001B[43m            \u001B[49m\u001B[43mn_steps_per_epoch\u001B[49m\u001B[43m,\u001B[49m\n\u001B[1;32m    412\u001B[0m \u001B[43m            \u001B[49m\u001B[43msave_metrics\u001B[49m\u001B[43m,\u001B[49m\n\u001B[1;32m    413\u001B[0m \u001B[43m            \u001B[49m\u001B[43mexperiment_name\u001B[49m\u001B[43m,\u001B[49m\n\u001B[1;32m    414\u001B[0m \u001B[43m            \u001B[49m\u001B[43mwith_timestamp\u001B[49m\u001B[43m,\u001B[49m\n\u001B[1;32m    415\u001B[0m \u001B[43m            \u001B[49m\u001B[43mlogdir\u001B[49m\u001B[43m,\u001B[49m\n\u001B[1;32m    416\u001B[0m \u001B[43m            \u001B[49m\u001B[43mverbose\u001B[49m\u001B[43m,\u001B[49m\n\u001B[1;32m    417\u001B[0m \u001B[43m            \u001B[49m\u001B[43mshow_progress\u001B[49m\u001B[43m,\u001B[49m\n\u001B[1;32m    418\u001B[0m \u001B[43m            \u001B[49m\u001B[43mtensorboard_dir\u001B[49m\u001B[43m,\u001B[49m\n\u001B[1;32m    419\u001B[0m \u001B[43m            \u001B[49m\u001B[43meval_episodes\u001B[49m\u001B[43m,\u001B[49m\n\u001B[1;32m    420\u001B[0m \u001B[43m            \u001B[49m\u001B[43msave_interval\u001B[49m\u001B[43m,\u001B[49m\n\u001B[1;32m    421\u001B[0m \u001B[43m            \u001B[49m\u001B[43mscorers\u001B[49m\u001B[43m,\u001B[49m\n\u001B[1;32m    422\u001B[0m \u001B[43m            \u001B[49m\u001B[43mshuffle\u001B[49m\u001B[43m,\u001B[49m\n\u001B[1;32m    423\u001B[0m \u001B[43m            \u001B[49m\u001B[43mcallback\u001B[49m\u001B[43m,\u001B[49m\n\u001B[1;32m    424\u001B[0m \u001B[43m        \u001B[49m\u001B[43m)\u001B[49m\n\u001B[1;32m    425\u001B[0m \u001B[43m    \u001B[49m\u001B[43m)\u001B[49m\n\u001B[1;32m    426\u001B[0m     \u001B[38;5;28;01mreturn\u001B[39;00m results\n",
      "File \u001B[0;32m/opt/homebrew/anaconda3/envs/ml/lib/python3.8/site-packages/d3rlpy/base.py:655\u001B[0m, in \u001B[0;36mLearnableBase.fitter\u001B[0;34m(self, dataset, n_epochs, n_steps, n_steps_per_epoch, save_metrics, experiment_name, with_timestamp, logdir, verbose, show_progress, tensorboard_dir, eval_episodes, save_interval, scorers, shuffle, callback)\u001B[0m\n\u001B[1;32m    653\u001B[0m     \u001B[38;5;66;03m# call callback if given\u001B[39;00m\n\u001B[1;32m    654\u001B[0m     \u001B[38;5;28;01mif\u001B[39;00m callback:\n\u001B[0;32m--> 655\u001B[0m         \u001B[43mcallback\u001B[49m\u001B[43m(\u001B[49m\u001B[38;5;28;43mself\u001B[39;49m\u001B[43m,\u001B[49m\u001B[43m \u001B[49m\u001B[43mepoch\u001B[49m\u001B[43m,\u001B[49m\u001B[43m \u001B[49m\u001B[43mtotal_step\u001B[49m\u001B[43m)\u001B[49m\n\u001B[1;32m    657\u001B[0m \u001B[38;5;66;03m# save loss to loss history dict\u001B[39;00m\n\u001B[1;32m    658\u001B[0m \u001B[38;5;28mself\u001B[39m\u001B[38;5;241m.\u001B[39m_loss_history[\u001B[38;5;124m\"\u001B[39m\u001B[38;5;124mepoch\u001B[39m\u001B[38;5;124m\"\u001B[39m]\u001B[38;5;241m.\u001B[39mappend(epoch)\n",
      "Cell \u001B[0;32mIn[10], line 11\u001B[0m, in \u001B[0;36mcallback_cql\u001B[0;34m(algo, epoch, total_step)\u001B[0m\n\u001B[1;32m      9\u001B[0m \u001B[38;5;28;01mif\u001B[39;00m total_step \u001B[38;5;241m%\u001B[39m \u001B[38;5;241m50\u001B[39m \u001B[38;5;241m==\u001B[39m \u001B[38;5;241m0\u001B[39m:\n\u001B[1;32m     10\u001B[0m   x \u001B[38;5;241m=\u001B[39m evaluate_scorer(algo)\n\u001B[0;32m---> 11\u001B[0m   q_log[\u001B[38;5;124m'\u001B[39m\u001B[38;5;124mtrue q\u001B[39m\u001B[38;5;124m'\u001B[39m]\u001B[38;5;241m.\u001B[39mappend(\u001B[43mx\u001B[49m\u001B[43m[\u001B[49m\u001B[38;5;241;43m0\u001B[39;49m\u001B[43m]\u001B[49m)\n\u001B[1;32m     12\u001B[0m   q_log[\u001B[38;5;124m'\u001B[39m\u001B[38;5;124mpred q\u001B[39m\u001B[38;5;124m'\u001B[39m]\u001B[38;5;241m.\u001B[39mappend(x[\u001B[38;5;241m1\u001B[39m])\n",
      "\u001B[0;31mTypeError\u001B[0m: 'float' object is not subscriptable"
     ]
    }
   ],
   "source": [
    "# cql.fit(train_set, eval_episodes=10, n_epochs=100, scorers={'environment': evaluate_scorer}, callbacks=[callback_cql])\n",
    "cql.fit(train_set,\n",
    "    eval_episodes=test_set,\n",
    "    n_epochs=20,\n",
    "    callback=callback_cql\n",
    "        )"
   ],
   "metadata": {
    "collapsed": false
   }
  }
 ],
 "metadata": {
  "kernelspec": {
   "display_name": "Python 3",
   "language": "python",
   "name": "python3"
  },
  "language_info": {
   "codemirror_mode": {
    "name": "ipython",
    "version": 2
   },
   "file_extension": ".py",
   "mimetype": "text/x-python",
   "name": "python",
   "nbconvert_exporter": "python",
   "pygments_lexer": "ipython2",
   "version": "2.7.6"
  }
 },
 "nbformat": 4,
 "nbformat_minor": 0
}
